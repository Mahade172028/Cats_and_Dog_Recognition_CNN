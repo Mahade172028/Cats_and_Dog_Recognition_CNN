{
 "cells": [
  {
   "cell_type": "code",
   "execution_count": 150,
   "metadata": {},
   "outputs": [],
   "source": [
    "import tensorflow as tf\n",
    "from tensorflow.keras.models import Sequential \n",
    "from tensorflow.keras.layers import Dense,Activation,Flatten,Dropout,MaxPooling2D,Conv2D\n",
    "import pickle"
   ]
  },
  {
   "cell_type": "code",
   "execution_count": 151,
   "metadata": {},
   "outputs": [],
   "source": [
    "X=pickle.load(open(\"X.pickle\",\"rb\")) #load data\n",
    "Y=pickle.load(open(\"Y.pickle\",\"rb\"))  #load data\n",
    "X=X/255.0"
   ]
  },
  {
   "cell_type": "code",
   "execution_count": 152,
   "metadata": {},
   "outputs": [],
   "source": [
    "model=Sequential()\n",
    "model.add(Conv2D(64,(3,3),input_shape=X.shape[1:]))   #convolution layer with relu activation\n",
    "model.add(Activation(\"relu\"))\n",
    "model.add(MaxPooling2D(pool_size=(2,2)))\n",
    "\n",
    "model.add(Conv2D(64,(3,3)))                          #convolution layer with relu activation\n",
    "model.add(Activation(\"relu\"))\n",
    "model.add(MaxPooling2D(pool_size=(2,2)))\n",
    "\n",
    "model.add(Flatten())                               #Flatten layer with relu activation\n",
    "model.add(Dense(64,Activation(\"relu\")))            #Dense layer with activation relu\n",
    "\n",
    "model.add(Dense(1))\n",
    "model.add(Activation(\"sigmoid\"))                  #Dense layer with activation sigmoid 0--1"
   ]
  },
  {
   "cell_type": "code",
   "execution_count": 153,
   "metadata": {
    "scrolled": true
   },
   "outputs": [
    {
     "name": "stdout",
     "output_type": "stream",
     "text": [
      "Epoch 1/20\n",
      "57/57 [==============================] - 12s 212ms/step - loss: 0.6964 - accuracy: 0.4939 - val_loss: 0.6930 - val_accuracy: 0.4700\n",
      "Epoch 2/20\n",
      "57/57 [==============================] - 11s 199ms/step - loss: 0.6852 - accuracy: 0.5567 - val_loss: 0.6837 - val_accuracy: 0.5450\n",
      "Epoch 3/20\n",
      "57/57 [==============================] - 11s 200ms/step - loss: 0.6587 - accuracy: 0.6161 - val_loss: 0.6837 - val_accuracy: 0.6000\n",
      "Epoch 4/20\n",
      "57/57 [==============================] - 12s 202ms/step - loss: 0.6140 - accuracy: 0.6744 - val_loss: 0.6854 - val_accuracy: 0.6350\n",
      "Epoch 5/20\n",
      "57/57 [==============================] - 12s 202ms/step - loss: 0.5794 - accuracy: 0.7006 - val_loss: 0.6508 - val_accuracy: 0.6700\n",
      "Epoch 6/20\n",
      "57/57 [==============================] - 11s 198ms/step - loss: 0.5295 - accuracy: 0.7400 - val_loss: 0.6430 - val_accuracy: 0.6850\n",
      "Epoch 7/20\n",
      "57/57 [==============================] - 12s 204ms/step - loss: 0.4775 - accuracy: 0.7667 - val_loss: 0.6412 - val_accuracy: 0.7050\n",
      "Epoch 8/20\n",
      "57/57 [==============================] - 12s 202ms/step - loss: 0.4278 - accuracy: 0.7983 - val_loss: 0.6258 - val_accuracy: 0.7050\n",
      "Epoch 9/20\n",
      "57/57 [==============================] - 12s 203ms/step - loss: 0.3765 - accuracy: 0.8250 - val_loss: 0.6357 - val_accuracy: 0.7000\n",
      "Epoch 10/20\n",
      "57/57 [==============================] - 11s 199ms/step - loss: 0.3370 - accuracy: 0.8617 - val_loss: 0.6964 - val_accuracy: 0.6800\n",
      "Epoch 11/20\n",
      "57/57 [==============================] - 12s 204ms/step - loss: 0.2526 - accuracy: 0.9039 - val_loss: 0.7230 - val_accuracy: 0.7300\n",
      "Epoch 12/20\n",
      "57/57 [==============================] - 12s 206ms/step - loss: 0.1929 - accuracy: 0.9306 - val_loss: 0.8190 - val_accuracy: 0.6700\n",
      "Epoch 13/20\n",
      "57/57 [==============================] - 12s 205ms/step - loss: 0.1569 - accuracy: 0.9444 - val_loss: 0.8667 - val_accuracy: 0.7150\n",
      "Epoch 14/20\n",
      "57/57 [==============================] - 11s 199ms/step - loss: 0.1139 - accuracy: 0.9678 - val_loss: 0.9505 - val_accuracy: 0.6850\n",
      "Epoch 15/20\n",
      "57/57 [==============================] - 12s 204ms/step - loss: 0.0935 - accuracy: 0.9728 - val_loss: 1.0383 - val_accuracy: 0.6850\n",
      "Epoch 16/20\n",
      "57/57 [==============================] - 12s 208ms/step - loss: 0.0591 - accuracy: 0.9872 - val_loss: 1.1931 - val_accuracy: 0.6950\n",
      "Epoch 17/20\n",
      "57/57 [==============================] - 12s 211ms/step - loss: 0.0449 - accuracy: 0.9933 - val_loss: 1.2143 - val_accuracy: 0.6800\n",
      "Epoch 18/20\n",
      "57/57 [==============================] - 12s 202ms/step - loss: 0.0276 - accuracy: 0.9972 - val_loss: 1.2847 - val_accuracy: 0.6900\n",
      "Epoch 19/20\n",
      "57/57 [==============================] - 12s 205ms/step - loss: 0.0163 - accuracy: 0.9994 - val_loss: 1.3993 - val_accuracy: 0.6900\n",
      "Epoch 20/20\n",
      "57/57 [==============================] - 12s 205ms/step - loss: 0.0126 - accuracy: 0.9994 - val_loss: 1.4184 - val_accuracy: 0.6900\n"
     ]
    },
    {
     "data": {
      "text/plain": [
       "<tensorflow.python.keras.callbacks.History at 0x20752da62e0>"
      ]
     },
     "execution_count": 153,
     "metadata": {},
     "output_type": "execute_result"
    }
   ],
   "source": [
    "import numpy as np\n",
    "model.compile(loss=\"binary_crossentropy\",optimizer=\"adam\",metrics=[\"accuracy\"])\n",
    "Y=np.array(Y)                                    #convert list to np array\n",
    "model.fit(X,Y,batch_size=32,epochs=20,validation_split=0.1)"
   ]
  },
  {
   "cell_type": "code",
   "execution_count": 160,
   "metadata": {},
   "outputs": [
    {
     "data": {
      "image/png": "[encoded data removed]",
      "text/plain": [
       "<Figure size 432x288 with 1 Axes>"
      ]
     },
     "metadata": {
      "needs_background": "light"
     },
     "output_type": "display_data"
    }
   ],
   "source": [
    "import cv2\n",
    "import matplotlib.pyplot as plt\n",
    "img_test=cv2.imread(\"Downloads/cat.jpg\",cv2.IMREAD_GRAYSCALE)   #Taking image for actual test\n",
    "img_test=cv2.resize(img_test,(60,60))\n",
    "img_test=np.array(img_test).reshape(60,60,1)\n",
    "img_test=img_test/255.0\n",
    "plt.imshow(img_test)            #showing our loaded image\n",
    "plt.show()"
   ]
  },
  {
   "cell_type": "code",
   "execution_count": 157,
   "metadata": {},
   "outputs": [],
   "source": [
    "predict=model.predict(np.expand_dims(img_test, axis = 0))  #predict the test image and increast dimension (1,60,60,1) for feed"
   ]
  },
  {
   "cell_type": "code",
   "execution_count": 166,
   "metadata": {},
   "outputs": [
    {
     "name": "stdout",
     "output_type": "stream",
     "text": [
      "This is predicted as =>Cat<= and prediction: [[0.9999921]]\n"
     ]
    }
   ],
   "source": [
    "classes=[\"Dog\",\"Cat\"]\n",
    "#plt.imshow(img_test)\n",
    "if(predict>.5):\n",
    "    index=1\n",
    "else:\n",
    "    index=0\n",
    "    \n",
    "print(\"This is predicted as =>{}<= and\".format(classes[index]),\"prediction:\",predict)"
   ]
  },
  {
   "cell_type": "code",
   "execution_count": null,
   "metadata": {},
   "outputs": [],
   "source": []
  }
 ],
 "metadata": {
  "kernelspec": {
   "display_name": "Python 3",
   "language": "python",
   "name": "python3"
  },
  "language_info": {
   "codemirror_mode": {
    "name": "ipython",
    "version": 3
   },
   "file_extension": ".py",
   "mimetype": "text/x-python",
   "name": "python",
   "nbconvert_exporter": "python",
   "pygments_lexer": "ipython3",
   "version": "3.8.5"
  }
 },
 "nbformat": 4,
 "nbformat_minor": 4
}
